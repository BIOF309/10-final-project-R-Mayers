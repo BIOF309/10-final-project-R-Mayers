{
 "cells": [
  {
   "cell_type": "markdown",
   "metadata": {},
   "source": [
    "BIOF309 Final Project"
   ]
  },
  {
   "cell_type": "code",
   "execution_count": null,
   "metadata": {
    "collapsed": true
   },
   "outputs": [],
   "source": [
    "##I examined the Pew Global Attitudes Survey Results, initially looking for availability of data on health-related topics\n",
    "##Not every country is represented in every year, and questions asked - and which countries are asked those questions from the survey - vary frequently\n",
    "##Based upon an availability of data across years and a similarity of datasets, I chose to examine Kenya, Nigeria, and South African survey results across the 2015 and 2016 surveys, focusing on trends in opinions in health-related topics and their correlation with other potentially-relevant questions\n",
    "##Given the limited n of samples, I will be looking for any trends, rather than statistically significant correlations"
   ]
  },
  {
   "cell_type": "code",
   "execution_count": null,
   "metadata": {
    "collapsed": true
   },
   "outputs": [],
   "source": [
    "#Importing packages I plan on using\n",
    "import numpy as np\n",
    "import pandas as pd\n",
    "import matplotlib.pyplot as plt"
   ]
  },
  {
   "cell_type": "code",
   "execution_count": null,
   "metadata": {},
   "outputs": [],
   "source": [
    "#Building PewResults DataFrame\n",
    "\n",
    "##Countries used\n",
    "countries = [\"Kenya\", \"Nigeria\", \"South Africa\"]\n",
    "\n",
    "##Questions on health care as a major national problem\n",
    "hcproblem2016 = [86, 93, 82] #Percentage of respondents indicating that poor health care was a \"very big problem\" for the country in the 2016 survey\n",
    "hcproblem2015 = [51, 81, 57] #Percentage of respondents indicating that poor health care was a \"very big problem\" for the country in the 2015 survey\n",
    "hcproblemchange = [35, 12, 25] #Change in percentage of respondents indicating that poor health care was a \"very big problem\" for the country between 2015 and 2016\n",
    "\n",
    "##Questions on how big a priority improving health care should be\n",
    "hcpriority2016 = [20, 14, 17] #Percentage of respondents indicating that improving health care should be the #1 priority of their country in the 2016 survey\n",
    "hcpriority2015 = [33, 31, 16] #Percentage of respondents indicating that improving health care should be the #1 priority of their country in the 2015 survey\n",
    "hcprioritychange = [-13, -17, 1] #Change in percentage of respondents indicating that improving health care should be the #1 priority of their country between the two surveys\n",
    "\n",
    "##Questions on the economic situation\n",
    "econproblem2016 = [6, 6, 10] #Percentage of respondents indicating that they thought their country's economic situation was \"very good\" in the 2016 survey\n",
    "econproblem2015 = [11, 26, 20] #Percentage of respondents indicating that they thought their country's economic situation was \"very good\" in the 2015 survey \n",
    "econproblemchange = [-5, -20, -10] #Change between surveys, in percentage of respondents\n",
    "\n",
    "##Questions on perceptions of the future of the economy\n",
    "econoptimism2016 = [56, 86, 62] #Percentage of respondents who expected improvement in their country's economy within 12 months of the 2016 survey\n",
    "econoptimism2015 = [53, 92, 45] #Percentage of respondents who expected improvement in their country's economy within 12 months of the 2015 survey\n",
    "econoptimismchange = [3, -6, 17] #Change between surveys, in percentage of respondents\n",
    "\n",
    "##Questions on economic stability\n",
    "econinstability2016 = [77, 61, 61] #Percentage of respondents indicating they global economic instability a \"major threat\" to their country during the 2016 survey\n",
    "econinstability2015 = [44, 48, 33] #Percentage of respondents indicating they were \"very concerned\" about global economic instability during the 2015 survey\n",
    "econinstabilitychange = [33, 23, 28] #Change between surveys, in percentage of respondents\n",
    "\n",
    "##Other (health) questions from 2016 survey\n",
    "hcoptimism = [13, 47, 21] #Percentage of respondents indicating that, when children in their country grow up, \"health care will be much better\"\n",
    "hcpersonal = [60, 59, 57] #Percentage of respondents indicating that there had been times in the past year where they had been unable to pay for necessary health/medical care for themselves or their family \n",
    "\n",
    "##Other (climate) questions from 2015 survey\n",
    "climateimmediate = [54, 52, 31] #Percentage of respondents indicating that climate change is impacting people around the world now (as opposed to in the future)\n",
    "climatepersonal = [61, 63, 39] #Percentage of respondents indicating that they were \"very concerned\" climate change would impact them personally during their lifetimes\n",
    "\n",
    "##Pulling it all together\n",
    "dict = {'Country':countries, \n",
    "        'Concern Over Health Care in 2016':hcproblem2016, \n",
    "        'Concern Over Health Care in 2015':hcproblem2015, \n",
    "        'Change in Concern Over Health Care':hcproblemchange, \n",
    "        'View of Health Care as a Major Priority in 2016':hcpriority2016,\n",
    "        'View of Health Care as a Major Priority in 2015':hcpriority2015,\n",
    "        'Change in View of Health Care as a Major Priority':hcprioritychange,\n",
    "        'Concern Over Economy in 2016':econproblem2016,\n",
    "        'Concern Over Economy in 2015':econproblem2015,\n",
    "        'Change in Concern over Economy':econproblemchange,\n",
    "        'Optimism About Economy in 2016':econoptimism2016,\n",
    "        'Optimism About Economy in 2015':econoptimism2015,\n",
    "        'Change in Optimism About Economy':econoptimismchange,\n",
    "        'Fear of Economic Instability in 2016':econinstability2016,\n",
    "        'Fear of Economic Instability in 2015':econinstability2015,\n",
    "        'Change in Fear of Economic Instability':econinstabilitychange,\n",
    "        'Optimism of Future Improvements in Health Care - 2016':hcoptimism,\n",
    "        'Personal Experience With Inability to Pay for Health Care - 2016':hcpersonal,\n",
    "        'Belief that Climate Change is an Immediate Problem - 2015':climateimmediate,\n",
    "        'Belief that Climate Change Will Impact Respondent Personally - 2015':climatepersonal\n",
    "       }\n",
    "pewdata = pd.DataFrame(dict) #Creates a DataFrame compiling all of the data from Pew\n",
    "pewdata.index = countries #Labels the DataFrame with the names of the countries, rather than 0-2\n",
    "print(pewdata) #Confirmation of successful creation"
   ]
  },
  {
   "cell_type": "code",
   "execution_count": null,
   "metadata": {
    "collapsed": true
   },
   "outputs": [],
   "source": [
    "##Examining Correlations\n",
    "##Matplotlib for charts (generally speaking, survey result 1 vs survey result 2, with countries being the datapoints for n = 3 samples)\n",
    "##Look into if user input is an option for more efficient chart display?\n",
    "##Ensure R value is printed out with each chart"
   ]
  }
 ],
 "metadata": {
  "kernelspec": {
   "display_name": "Python 3",
   "language": "python",
   "name": "python3"
  },
  "language_info": {
   "codemirror_mode": {
    "name": "ipython",
    "version": 3
   },
   "file_extension": ".py",
   "mimetype": "text/x-python",
   "name": "python",
   "nbconvert_exporter": "python",
   "pygments_lexer": "ipython3",
   "version": "3.6.1"
  }
 },
 "nbformat": 4,
 "nbformat_minor": 2
}
